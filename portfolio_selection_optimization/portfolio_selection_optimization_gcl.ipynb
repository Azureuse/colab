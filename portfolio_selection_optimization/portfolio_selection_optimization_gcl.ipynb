{
  "nbformat": 4,
  "nbformat_minor": 0,
  "metadata": {
    "kernelspec": {
      "display_name": "Python 3",
      "language": "python",
      "name": "python3"
    },
    "language_info": {
      "codemirror_mode": {
        "name": "ipython",
        "version": 3
      },
      "file_extension": ".py",
      "mimetype": "text/x-python",
      "name": "python",
      "nbconvert_exporter": "python",
      "pygments_lexer": "ipython3",
      "version": "3.8.2"
    },
    "colab": {
      "name": "portfolio_selection_optimization_gcl.ipynb",
      "provenance": [],
      "include_colab_link": true
    }
  },
  "cells": [
    {
      "cell_type": "markdown",
      "metadata": {
        "id": "view-in-github",
        "colab_type": "text"
      },
      "source": [
        "<a href=\"https://colab.research.google.com/github/Azureuse/colab/blob/main/portfolio_selection_optimization/portfolio_selection_optimization_gcl.ipynb\" target=\"_parent\"><img src=\"https://colab.research.google.com/assets/colab-badge.svg\" alt=\"Open In Colab\"/></a>"
      ]
    },
    {
      "cell_type": "markdown",
      "metadata": {
        "scrolled": true,
        "id": "U2aAy_Qmfz4Q"
      },
      "source": [
        "# Portfolio Selection Optimization\n",
        "This model is an example of the classic [Markowitz portfolio selection optimization model](https://en.wikipedia.org/wiki/Markowitz_model). We want to find the fraction of the portfolio to invest among a set of stocks that balances risk and return. It is a Quadratic Programming (QP) model with vector and matrix data for returns and risk, respectively. This is best suited to a matrix formulation, so we use the Gurobi Python *matrix* interface. The basic model is fairly simple, so we also solve it parametrically to find the efficient frontier.\n",
        "\n",
        "**Download the Repository** <br /> \n",
        "You can download the repository containing this and other examples by clicking [here](https://github.com/Gurobi/modeling-examples/archive/master.zip). \n",
        "\n",
        "\n",
        "## Model Formulation\n",
        "### Parameters\n",
        "\n",
        "We use the [Greek values](https://en.wikipedia.org/wiki/Greeks_\\(finance\\)) that are traditional in finance:\n",
        "\n",
        "- $\\delta$: n-element vector measuring the change in price for each stock\n",
        "- $\\sigma$: n x n matrix measuring the covariance among stocks\n",
        "\n",
        "There is one additional parameter when solving the model parametrically:\n",
        "\n",
        "- r: target return\n",
        "\n",
        "\n",
        "### Decision Variables\n",
        "- $x \\ge 0$: n-element vector where each element represents the fraction of the porfolio to invest in each stock\n",
        "\n",
        "### Objective Function\n",
        "Minimize the total risk, a convex quadratic function:\n",
        "\n",
        "\\begin{equation}\n",
        "\\min x^t \\cdot \\sigma \\cdot x\n",
        "\\end{equation}\n",
        "\n",
        "### Constraints\n",
        "\n",
        "Allocate the entire portfolio: the total investments should be 1.0 (100%), where $e$ is a unit vector (all 1's):\n",
        "\n",
        "\\begin{equation}\n",
        "e \\cdot x = 1\n",
        "\\end{equation}\n",
        "\n",
        "\n",
        "Return: When we solve the model parametrically for different return values $r$, we add a constraint on the target return:\n",
        "\n",
        "\\begin{equation}\n",
        "\\delta \\cdot x = r\n",
        "\\end{equation}"
      ]
    },
    {
      "cell_type": "markdown",
      "metadata": {
        "scrolled": true,
        "id": "4a5YLhn1fz4W"
      },
      "source": [
        "## Python Implementation\n",
        "### Stock data\n",
        "Use [yfinance](https://pypi.org/project/yfinance/) library to get the latest 2 years of _actual stock data_ from the 20 most profitable US companies, [according to Wikipedia in April 2021](https://en.wikipedia.org/wiki/List_of_largest_companies_in_the_United_States_by_revenue#List_of_companies_by_profit)."
      ]
    },
    {
      "cell_type": "code",
      "metadata": {
        "colab": {
          "base_uri": "https://localhost:8080/"
        },
        "id": "XpcLypZcfz4X",
        "outputId": "4f11df07-7be3-4da1-b52d-e1ec7132e771"
      },
      "source": [
        "%pip install gurobipy yfinance pytickersymbols"
      ],
      "execution_count": 65,
      "outputs": [
        {
          "output_type": "stream",
          "name": "stdout",
          "text": [
            "Requirement already satisfied: gurobipy in /usr/local/lib/python3.7/dist-packages (9.1.2)\n",
            "Requirement already satisfied: yfinance in /usr/local/lib/python3.7/dist-packages (0.1.63)\n",
            "Requirement already satisfied: pytickersymbols in /usr/local/lib/python3.7/dist-packages (1.8.6)\n",
            "Requirement already satisfied: multitasking>=0.0.7 in /usr/local/lib/python3.7/dist-packages (from yfinance) (0.0.9)\n",
            "Requirement already satisfied: requests>=2.20 in /usr/local/lib/python3.7/dist-packages (from yfinance) (2.23.0)\n",
            "Requirement already satisfied: lxml>=4.5.1 in /usr/local/lib/python3.7/dist-packages (from yfinance) (4.6.3)\n",
            "Requirement already satisfied: numpy>=1.15 in /usr/local/lib/python3.7/dist-packages (from yfinance) (1.19.5)\n",
            "Requirement already satisfied: pandas>=0.24 in /usr/local/lib/python3.7/dist-packages (from yfinance) (1.1.5)\n",
            "Requirement already satisfied: pytz>=2017.2 in /usr/local/lib/python3.7/dist-packages (from pandas>=0.24->yfinance) (2018.9)\n",
            "Requirement already satisfied: python-dateutil>=2.7.3 in /usr/local/lib/python3.7/dist-packages (from pandas>=0.24->yfinance) (2.8.2)\n",
            "Requirement already satisfied: six>=1.5 in /usr/local/lib/python3.7/dist-packages (from python-dateutil>=2.7.3->pandas>=0.24->yfinance) (1.15.0)\n",
            "Requirement already satisfied: urllib3!=1.25.0,!=1.25.1,<1.26,>=1.21.1 in /usr/local/lib/python3.7/dist-packages (from requests>=2.20->yfinance) (1.24.3)\n",
            "Requirement already satisfied: chardet<4,>=3.0.2 in /usr/local/lib/python3.7/dist-packages (from requests>=2.20->yfinance) (3.0.4)\n",
            "Requirement already satisfied: idna<3,>=2.5 in /usr/local/lib/python3.7/dist-packages (from requests>=2.20->yfinance) (2.10)\n",
            "Requirement already satisfied: certifi>=2017.4.17 in /usr/local/lib/python3.7/dist-packages (from requests>=2.20->yfinance) (2021.5.30)\n",
            "Requirement already satisfied: wheel==0.37.0 in /usr/local/lib/python3.7/dist-packages (from pytickersymbols) (0.37.0)\n",
            "Requirement already satisfied: PyYAML==5.4.1 in /usr/local/lib/python3.7/dist-packages (from pytickersymbols) (5.4.1)\n"
          ]
        }
      ]
    },
    {
      "cell_type": "code",
      "metadata": {
        "colab": {
          "base_uri": "https://localhost:8080/"
        },
        "id": "kh7OLITzgTv5",
        "outputId": "5205ae0d-c084-4c41-c108-f2d39d7193fa"
      },
      "source": [
        "from pytickersymbols import PyTickerSymbols\n",
        "\n",
        "stock_data = PyTickerSymbols()\n",
        "stocks = list(stock_data.get_sp_100_nyc_yahoo_tickers())\n",
        "len(stocks)"
      ],
      "execution_count": 66,
      "outputs": [
        {
          "output_type": "execute_result",
          "data": {
            "text/plain": [
              "104"
            ]
          },
          "metadata": {},
          "execution_count": 66
        }
      ]
    },
    {
      "cell_type": "code",
      "metadata": {
        "scrolled": true,
        "colab": {
          "base_uri": "https://localhost:8080/"
        },
        "id": "TEyZFXupfz4Z",
        "outputId": "b7104d15-92b8-4157-bb33-c613ddfbe9e5"
      },
      "source": [
        "import yfinance as yf\n",
        "\n",
        "# stocks = ['BRK-A', 'AAPL', 'MSFT', 'JPM', 'GOOG', 'BAC', 'INTC', 'WFC',\n",
        "#           'C', 'VZ', 'FB', 'PFE', 'JNJ', 'WMT', 'XOM',\n",
        "#           'FNMA', 'T', 'UNH', 'CMCSA', 'V' ]\n",
        "\n",
        "data = yf.download(stocks, period='2y')"
      ],
      "execution_count": 67,
      "outputs": [
        {
          "output_type": "stream",
          "name": "stdout",
          "text": [
            "[*********************100%***********************]  104 of 104 completed\n"
          ]
        }
      ]
    },
    {
      "cell_type": "markdown",
      "metadata": {
        "id": "QDEClMOqfz4a"
      },
      "source": [
        "### Compute Greeks\n",
        "Using the downloaded stock data, find the delta (return), sigma (covariance) and standard deviation values for stock prices:"
      ]
    },
    {
      "cell_type": "code",
      "metadata": {
        "colab": {
          "base_uri": "https://localhost:8080/",
          "height": 374
        },
        "id": "cwFu5jFafz4a",
        "outputId": "414c0a44-b55e-43d4-f992-76c4de08d290"
      },
      "source": [
        "import numpy as np\n",
        "\n",
        "clean_close_data = data['Close'].dropna(axis=0, how='any')\n",
        "\n",
        "closes = np.transpose(clean_close_data) # matrix of daily closing prices\n",
        "absdiff = np.diff(closes)                   # change in closing price each day\n",
        "reldiff = np.divide(absdiff, closes[:,:-1]) # relative change in daily closing price\n",
        "delta = np.mean(reldiff, axis=1)            # mean price change\n",
        "sigma = np.cov(reldiff)                     # covariance (standard deviations)\n",
        "std = np.std(reldiff, axis=1)               # standard deviation"
      ],
      "execution_count": 68,
      "outputs": [
        {
          "output_type": "error",
          "ename": "InvalidIndexError",
          "evalue": "ignored",
          "traceback": [
            "\u001b[0;31m---------------------------------------------------------------------------\u001b[0m",
            "\u001b[0;31mInvalidIndexError\u001b[0m                         Traceback (most recent call last)",
            "\u001b[0;32m<ipython-input-68-8d8339c44d09>\u001b[0m in \u001b[0;36m<module>\u001b[0;34m()\u001b[0m\n\u001b[1;32m      5\u001b[0m \u001b[0mcloses\u001b[0m \u001b[0;34m=\u001b[0m \u001b[0mnp\u001b[0m\u001b[0;34m.\u001b[0m\u001b[0mtranspose\u001b[0m\u001b[0;34m(\u001b[0m\u001b[0mclean_close_data\u001b[0m\u001b[0;34m)\u001b[0m \u001b[0;31m# matrix of daily closing prices\u001b[0m\u001b[0;34m\u001b[0m\u001b[0;34m\u001b[0m\u001b[0m\n\u001b[1;32m      6\u001b[0m \u001b[0mabsdiff\u001b[0m \u001b[0;34m=\u001b[0m \u001b[0mnp\u001b[0m\u001b[0;34m.\u001b[0m\u001b[0mdiff\u001b[0m\u001b[0;34m(\u001b[0m\u001b[0mcloses\u001b[0m\u001b[0;34m)\u001b[0m                   \u001b[0;31m# change in closing price each day\u001b[0m\u001b[0;34m\u001b[0m\u001b[0;34m\u001b[0m\u001b[0m\n\u001b[0;32m----> 7\u001b[0;31m \u001b[0mreldiff\u001b[0m \u001b[0;34m=\u001b[0m \u001b[0mnp\u001b[0m\u001b[0;34m.\u001b[0m\u001b[0mdivide\u001b[0m\u001b[0;34m(\u001b[0m\u001b[0mabsdiff\u001b[0m\u001b[0;34m,\u001b[0m \u001b[0mcloses\u001b[0m\u001b[0;34m[\u001b[0m\u001b[0;34m:\u001b[0m\u001b[0;34m,\u001b[0m\u001b[0;34m:\u001b[0m\u001b[0;34m-\u001b[0m\u001b[0;36m1\u001b[0m\u001b[0;34m]\u001b[0m\u001b[0;34m)\u001b[0m \u001b[0;31m# relative change in daily closing price\u001b[0m\u001b[0;34m\u001b[0m\u001b[0;34m\u001b[0m\u001b[0m\n\u001b[0m\u001b[1;32m      8\u001b[0m \u001b[0mdelta\u001b[0m \u001b[0;34m=\u001b[0m \u001b[0mnp\u001b[0m\u001b[0;34m.\u001b[0m\u001b[0mmean\u001b[0m\u001b[0;34m(\u001b[0m\u001b[0mreldiff\u001b[0m\u001b[0;34m,\u001b[0m \u001b[0maxis\u001b[0m\u001b[0;34m=\u001b[0m\u001b[0;36m1\u001b[0m\u001b[0;34m)\u001b[0m            \u001b[0;31m# mean price change\u001b[0m\u001b[0;34m\u001b[0m\u001b[0;34m\u001b[0m\u001b[0m\n\u001b[1;32m      9\u001b[0m \u001b[0msigma\u001b[0m \u001b[0;34m=\u001b[0m \u001b[0mnp\u001b[0m\u001b[0;34m.\u001b[0m\u001b[0mcov\u001b[0m\u001b[0;34m(\u001b[0m\u001b[0mreldiff\u001b[0m\u001b[0;34m)\u001b[0m                     \u001b[0;31m# covariance (standard deviations)\u001b[0m\u001b[0;34m\u001b[0m\u001b[0;34m\u001b[0m\u001b[0m\n",
            "\u001b[0;32m/usr/local/lib/python3.7/dist-packages/pandas/core/frame.py\u001b[0m in \u001b[0;36m__getitem__\u001b[0;34m(self, key)\u001b[0m\n\u001b[1;32m   2904\u001b[0m             \u001b[0;32mif\u001b[0m \u001b[0mself\u001b[0m\u001b[0;34m.\u001b[0m\u001b[0mcolumns\u001b[0m\u001b[0;34m.\u001b[0m\u001b[0mnlevels\u001b[0m \u001b[0;34m>\u001b[0m \u001b[0;36m1\u001b[0m\u001b[0;34m:\u001b[0m\u001b[0;34m\u001b[0m\u001b[0;34m\u001b[0m\u001b[0m\n\u001b[1;32m   2905\u001b[0m                 \u001b[0;32mreturn\u001b[0m \u001b[0mself\u001b[0m\u001b[0;34m.\u001b[0m\u001b[0m_getitem_multilevel\u001b[0m\u001b[0;34m(\u001b[0m\u001b[0mkey\u001b[0m\u001b[0;34m)\u001b[0m\u001b[0;34m\u001b[0m\u001b[0;34m\u001b[0m\u001b[0m\n\u001b[0;32m-> 2906\u001b[0;31m             \u001b[0mindexer\u001b[0m \u001b[0;34m=\u001b[0m \u001b[0mself\u001b[0m\u001b[0;34m.\u001b[0m\u001b[0mcolumns\u001b[0m\u001b[0;34m.\u001b[0m\u001b[0mget_loc\u001b[0m\u001b[0;34m(\u001b[0m\u001b[0mkey\u001b[0m\u001b[0;34m)\u001b[0m\u001b[0;34m\u001b[0m\u001b[0;34m\u001b[0m\u001b[0m\n\u001b[0m\u001b[1;32m   2907\u001b[0m             \u001b[0;32mif\u001b[0m \u001b[0mis_integer\u001b[0m\u001b[0;34m(\u001b[0m\u001b[0mindexer\u001b[0m\u001b[0;34m)\u001b[0m\u001b[0;34m:\u001b[0m\u001b[0;34m\u001b[0m\u001b[0;34m\u001b[0m\u001b[0m\n\u001b[1;32m   2908\u001b[0m                 \u001b[0mindexer\u001b[0m \u001b[0;34m=\u001b[0m \u001b[0;34m[\u001b[0m\u001b[0mindexer\u001b[0m\u001b[0;34m]\u001b[0m\u001b[0;34m\u001b[0m\u001b[0;34m\u001b[0m\u001b[0m\n",
            "\u001b[0;32m/usr/local/lib/python3.7/dist-packages/pandas/core/indexes/datetimes.py\u001b[0m in \u001b[0;36mget_loc\u001b[0;34m(self, key, method, tolerance)\u001b[0m\n\u001b[1;32m    584\u001b[0m         \"\"\"\n\u001b[1;32m    585\u001b[0m         \u001b[0;32mif\u001b[0m \u001b[0;32mnot\u001b[0m \u001b[0mis_scalar\u001b[0m\u001b[0;34m(\u001b[0m\u001b[0mkey\u001b[0m\u001b[0;34m)\u001b[0m\u001b[0;34m:\u001b[0m\u001b[0;34m\u001b[0m\u001b[0;34m\u001b[0m\u001b[0m\n\u001b[0;32m--> 586\u001b[0;31m             \u001b[0;32mraise\u001b[0m \u001b[0mInvalidIndexError\u001b[0m\u001b[0;34m(\u001b[0m\u001b[0mkey\u001b[0m\u001b[0;34m)\u001b[0m\u001b[0;34m\u001b[0m\u001b[0;34m\u001b[0m\u001b[0m\n\u001b[0m\u001b[1;32m    587\u001b[0m \u001b[0;34m\u001b[0m\u001b[0m\n\u001b[1;32m    588\u001b[0m         \u001b[0morig_key\u001b[0m \u001b[0;34m=\u001b[0m \u001b[0mkey\u001b[0m\u001b[0;34m\u001b[0m\u001b[0;34m\u001b[0m\u001b[0m\n",
            "\u001b[0;31mInvalidIndexError\u001b[0m: (slice(None, None, None), slice(None, -1, None))"
          ]
        }
      ]
    },
    {
      "cell_type": "markdown",
      "metadata": {
        "id": "aZWMwCiofz4b"
      },
      "source": [
        "## Minimize risk by solving QP model"
      ]
    },
    {
      "cell_type": "code",
      "metadata": {
        "colab": {
          "base_uri": "https://localhost:8080/"
        },
        "id": "gZc_yBsQfz4c",
        "outputId": "f98c04f8-9e0b-4764-e01c-12b890c5d435"
      },
      "source": [
        "import gurobipy as gp\n",
        "from gurobipy import GRB\n",
        "from math import sqrt\n",
        "\n",
        "# Create an empty model\n",
        "m = gp.Model('portfolio')\n",
        "\n",
        "# Add matrix variable for the stocks\n",
        "# x = m.addMVar(len(stocks), vtype='C', lb=0, ub=0.04)\n",
        "x = m.addMVar(len(stocks), vtype='S', lb=0.01, ub=0.04)\n",
        "\n",
        "# Objective is to minimize risk (squared).  This is modeled using the\n",
        "# covariance matrix, which measures the historical correlation between stocks\n",
        "portfolio_risk = (x @ sigma @ x) + (0.1 * (x @ x))\n",
        "m.setObjective(portfolio_risk, GRB.MINIMIZE)\n",
        "\n",
        "# Fix budget with a constraint\n",
        "m.addConstr(x.sum() == 1, 'budget')\n",
        "\n",
        "# Verify model formulation\n",
        "m.write('portfolio_selection_optimization.lp')\n",
        "\n",
        "# Optimize model to find the minimum risk portfolio\n",
        "m.optimize()"
      ],
      "execution_count": 73,
      "outputs": [
        {
          "output_type": "stream",
          "name": "stdout",
          "text": [
            "Gurobi Optimizer version 9.1.2 build v9.1.2rc0 (linux64)\n",
            "Thread count: 1 physical cores, 2 logical processors, using up to 2 threads\n",
            "Optimize a model with 1 rows, 104 columns and 104 nonzeros\n",
            "Model fingerprint: 0x9fcaffc1\n",
            "Model has 5460 quadratic objective terms\n",
            "Variable types: 0 continuous, 0 integer (0 binary)\n",
            "Semi-Variable types: 104 continuous, 0 integer\n",
            "Coefficient statistics:\n",
            "  Matrix range     [1e+00, 1e+00]\n",
            "  Objective range  [0e+00, 0e+00]\n",
            "  QObjective range [5e-06, 1e+00]\n",
            "  Bounds range     [1e-02, 4e-02]\n",
            "  RHS range        [1e+00, 1e+00]\n",
            "Presolve time: 0.00s\n",
            "Presolved: 209 rows, 208 columns, 520 nonzeros\n",
            "Presolved model has 5460 quadratic objective terms\n",
            "Variable types: 104 continuous, 104 integer (104 binary)\n",
            "Found heuristic solution: objective 0.0124833\n",
            "Found heuristic solution: objective 0.0117659\n",
            "\n",
            "Root relaxation: objective 2.595609e-03, 218 iterations, 0.01 seconds\n",
            "\n",
            "    Nodes    |    Current Node    |     Objective Bounds      |     Work\n",
            " Expl Unexpl |  Obj  Depth IntInf | Incumbent    BestBd   Gap | It/Node Time\n",
            "\n",
            "     0     0    0.00260    0   72    0.01177    0.00260  77.9%     -    0s\n",
            "H    0     0                       0.0027182    0.00260  4.51%     -    0s\n",
            "     0     0    0.00260    0   72    0.00272    0.00260  4.51%     -    0s\n",
            "H    0     0                       0.0026274    0.00260  1.21%     -    0s\n",
            "     0     0    0.00260    0   45    0.00263    0.00260  1.10%     -    0s\n",
            "H    0     0                       0.0026272    0.00260  1.10%     -    0s\n",
            "     0     0    0.00260    0   45    0.00263    0.00260  1.10%     -    0s\n",
            "H    0     0                       0.0026268    0.00260  1.08%     -    0s\n",
            "     0     2    0.00260    0   45    0.00263    0.00260  1.08%     -    0s\n",
            "H   26    26                       0.0026266    0.00260  0.99%   3.1    0s\n",
            "*   51    45              50       0.0026249    0.00260  0.93%   3.5    0s\n",
            "*  260   169              47       0.0026244    0.00260  0.78%   3.7    0s\n",
            "*  600   309              56       0.0026242    0.00261  0.64%   4.2    0s\n",
            "* 2164   628              55       0.0026242    0.00261  0.46%   3.9    1s\n",
            "\n",
            "Explored 10182 nodes (36996 simplex iterations) in 4.49 seconds\n",
            "Thread count was 2 (of 2 available processors)\n",
            "\n",
            "Solution count 9: 0.00262419 0.0026242 0.00262439 ... 0.0124833\n",
            "\n",
            "Optimal solution found (tolerance 1.00e-04)\n",
            "Best objective 2.624192639529e-03, best bound 2.623952577268e-03, gap 0.0091%\n"
          ]
        }
      ]
    },
    {
      "cell_type": "markdown",
      "metadata": {
        "id": "uT4MZYTIfz4e"
      },
      "source": [
        "## Display minimum risk portfolio using Pandas"
      ]
    },
    {
      "cell_type": "code",
      "metadata": {
        "colab": {
          "base_uri": "https://localhost:8080/",
          "height": 1000
        },
        "id": "6F4WbwKxfz4f",
        "outputId": "1c402698-0a38-4965-93cd-fb7958c0a75a"
      },
      "source": [
        "import pandas as pd\n",
        "# minrisk_volatility = sqrt(m.ObjVal)\n",
        "# minrisk_return = delta @ x.X\n",
        "# pd.DataFrame(data=np.append(x.X, [minrisk_volatility, minrisk_return]),\n",
        "#              index=stocks + ['Volatility', 'Expected Return'],\n",
        "#              columns=['Minimum Risk Portfolio'])\n",
        "df_weights = pd.DataFrame(data=x.X, index=stocks, columns=['weight'])\n",
        "df_weights.sort_values(by=['weight'], ascending=False).head(50)"
      ],
      "execution_count": 74,
      "outputs": [
        {
          "output_type": "execute_result",
          "data": {
            "text/html": [
              "<div>\n",
              "<style scoped>\n",
              "    .dataframe tbody tr th:only-of-type {\n",
              "        vertical-align: middle;\n",
              "    }\n",
              "\n",
              "    .dataframe tbody tr th {\n",
              "        vertical-align: top;\n",
              "    }\n",
              "\n",
              "    .dataframe thead th {\n",
              "        text-align: right;\n",
              "    }\n",
              "</style>\n",
              "<table border=\"1\" class=\"dataframe\">\n",
              "  <thead>\n",
              "    <tr style=\"text-align: right;\">\n",
              "      <th></th>\n",
              "      <th>weight</th>\n",
              "    </tr>\n",
              "  </thead>\n",
              "  <tbody>\n",
              "    <tr>\n",
              "      <th>GE</th>\n",
              "      <td>0.031262</td>\n",
              "    </tr>\n",
              "    <tr>\n",
              "      <th>MCD</th>\n",
              "      <td>0.028764</td>\n",
              "    </tr>\n",
              "    <tr>\n",
              "      <th>RTX</th>\n",
              "      <td>0.027755</td>\n",
              "    </tr>\n",
              "    <tr>\n",
              "      <th>ACN</th>\n",
              "      <td>0.027225</td>\n",
              "    </tr>\n",
              "    <tr>\n",
              "      <th>CVX</th>\n",
              "      <td>0.027053</td>\n",
              "    </tr>\n",
              "    <tr>\n",
              "      <th>TMO</th>\n",
              "      <td>0.026854</td>\n",
              "    </tr>\n",
              "    <tr>\n",
              "      <th>BLK</th>\n",
              "      <td>0.026114</td>\n",
              "    </tr>\n",
              "    <tr>\n",
              "      <th>DHR</th>\n",
              "      <td>0.025602</td>\n",
              "    </tr>\n",
              "    <tr>\n",
              "      <th>EXC</th>\n",
              "      <td>0.025527</td>\n",
              "    </tr>\n",
              "    <tr>\n",
              "      <th>NVDA</th>\n",
              "      <td>0.023993</td>\n",
              "    </tr>\n",
              "    <tr>\n",
              "      <th>TSLA</th>\n",
              "      <td>0.023965</td>\n",
              "    </tr>\n",
              "    <tr>\n",
              "      <th>OCLCF</th>\n",
              "      <td>0.023297</td>\n",
              "    </tr>\n",
              "    <tr>\n",
              "      <th>CHTR</th>\n",
              "      <td>0.022438</td>\n",
              "    </tr>\n",
              "    <tr>\n",
              "      <th>LMT</th>\n",
              "      <td>0.022366</td>\n",
              "    </tr>\n",
              "    <tr>\n",
              "      <th>MA</th>\n",
              "      <td>0.021916</td>\n",
              "    </tr>\n",
              "    <tr>\n",
              "      <th>PG</th>\n",
              "      <td>0.021182</td>\n",
              "    </tr>\n",
              "    <tr>\n",
              "      <th>HON</th>\n",
              "      <td>0.020622</td>\n",
              "    </tr>\n",
              "    <tr>\n",
              "      <th>BMYMP</th>\n",
              "      <td>0.020565</td>\n",
              "    </tr>\n",
              "    <tr>\n",
              "      <th>BMY</th>\n",
              "      <td>0.020427</td>\n",
              "    </tr>\n",
              "    <tr>\n",
              "      <th>EMR</th>\n",
              "      <td>0.020364</td>\n",
              "    </tr>\n",
              "    <tr>\n",
              "      <th>AXP</th>\n",
              "      <td>0.019471</td>\n",
              "    </tr>\n",
              "    <tr>\n",
              "      <th>FDX</th>\n",
              "      <td>0.019293</td>\n",
              "    </tr>\n",
              "    <tr>\n",
              "      <th>CSCO</th>\n",
              "      <td>0.019205</td>\n",
              "    </tr>\n",
              "    <tr>\n",
              "      <th>MO</th>\n",
              "      <td>0.018392</td>\n",
              "    </tr>\n",
              "    <tr>\n",
              "      <th>JPM</th>\n",
              "      <td>0.018306</td>\n",
              "    </tr>\n",
              "    <tr>\n",
              "      <th>WMT</th>\n",
              "      <td>0.017714</td>\n",
              "    </tr>\n",
              "    <tr>\n",
              "      <th>TXN</th>\n",
              "      <td>0.017512</td>\n",
              "    </tr>\n",
              "    <tr>\n",
              "      <th>WFC</th>\n",
              "      <td>0.017375</td>\n",
              "    </tr>\n",
              "    <tr>\n",
              "      <th>PFE</th>\n",
              "      <td>0.016842</td>\n",
              "    </tr>\n",
              "    <tr>\n",
              "      <th>KO</th>\n",
              "      <td>0.016688</td>\n",
              "    </tr>\n",
              "    <tr>\n",
              "      <th>CRM</th>\n",
              "      <td>0.016498</td>\n",
              "    </tr>\n",
              "    <tr>\n",
              "      <th>BAC</th>\n",
              "      <td>0.016258</td>\n",
              "    </tr>\n",
              "    <tr>\n",
              "      <th>COF</th>\n",
              "      <td>0.016122</td>\n",
              "    </tr>\n",
              "    <tr>\n",
              "      <th>SO</th>\n",
              "      <td>0.015948</td>\n",
              "    </tr>\n",
              "    <tr>\n",
              "      <th>WBA</th>\n",
              "      <td>0.015625</td>\n",
              "    </tr>\n",
              "    <tr>\n",
              "      <th>LOW</th>\n",
              "      <td>0.015451</td>\n",
              "    </tr>\n",
              "    <tr>\n",
              "      <th>ABBV</th>\n",
              "      <td>0.015243</td>\n",
              "    </tr>\n",
              "    <tr>\n",
              "      <th>COST</th>\n",
              "      <td>0.013041</td>\n",
              "    </tr>\n",
              "    <tr>\n",
              "      <th>MS</th>\n",
              "      <td>0.012031</td>\n",
              "    </tr>\n",
              "    <tr>\n",
              "      <th>COP</th>\n",
              "      <td>0.011635</td>\n",
              "    </tr>\n",
              "    <tr>\n",
              "      <th>BKNG</th>\n",
              "      <td>0.011585</td>\n",
              "    </tr>\n",
              "    <tr>\n",
              "      <th>USB</th>\n",
              "      <td>0.010799</td>\n",
              "    </tr>\n",
              "    <tr>\n",
              "      <th>C</th>\n",
              "      <td>0.010727</td>\n",
              "    </tr>\n",
              "    <tr>\n",
              "      <th>BA</th>\n",
              "      <td>0.010614</td>\n",
              "    </tr>\n",
              "    <tr>\n",
              "      <th>AMZN</th>\n",
              "      <td>0.010334</td>\n",
              "    </tr>\n",
              "    <tr>\n",
              "      <th>TGT</th>\n",
              "      <td>0.010000</td>\n",
              "    </tr>\n",
              "    <tr>\n",
              "      <th>UPS</th>\n",
              "      <td>0.010000</td>\n",
              "    </tr>\n",
              "    <tr>\n",
              "      <th>CVS</th>\n",
              "      <td>0.010000</td>\n",
              "    </tr>\n",
              "    <tr>\n",
              "      <th>BK</th>\n",
              "      <td>0.010000</td>\n",
              "    </tr>\n",
              "    <tr>\n",
              "      <th>LLY</th>\n",
              "      <td>0.010000</td>\n",
              "    </tr>\n",
              "  </tbody>\n",
              "</table>\n",
              "</div>"
            ],
            "text/plain": [
              "         weight\n",
              "GE     0.031262\n",
              "MCD    0.028764\n",
              "RTX    0.027755\n",
              "ACN    0.027225\n",
              "CVX    0.027053\n",
              "TMO    0.026854\n",
              "BLK    0.026114\n",
              "DHR    0.025602\n",
              "EXC    0.025527\n",
              "NVDA   0.023993\n",
              "TSLA   0.023965\n",
              "OCLCF  0.023297\n",
              "CHTR   0.022438\n",
              "LMT    0.022366\n",
              "MA     0.021916\n",
              "PG     0.021182\n",
              "HON    0.020622\n",
              "BMYMP  0.020565\n",
              "BMY    0.020427\n",
              "EMR    0.020364\n",
              "AXP    0.019471\n",
              "FDX    0.019293\n",
              "CSCO   0.019205\n",
              "MO     0.018392\n",
              "JPM    0.018306\n",
              "WMT    0.017714\n",
              "TXN    0.017512\n",
              "WFC    0.017375\n",
              "PFE    0.016842\n",
              "KO     0.016688\n",
              "CRM    0.016498\n",
              "BAC    0.016258\n",
              "COF    0.016122\n",
              "SO     0.015948\n",
              "WBA    0.015625\n",
              "LOW    0.015451\n",
              "ABBV   0.015243\n",
              "COST   0.013041\n",
              "MS     0.012031\n",
              "COP    0.011635\n",
              "BKNG   0.011585\n",
              "USB    0.010799\n",
              "C      0.010727\n",
              "BA     0.010614\n",
              "AMZN   0.010334\n",
              "TGT    0.010000\n",
              "UPS    0.010000\n",
              "CVS    0.010000\n",
              "BK     0.010000\n",
              "LLY    0.010000"
            ]
          },
          "metadata": {},
          "execution_count": 74
        }
      ]
    },
    {
      "cell_type": "markdown",
      "metadata": {
        "id": "7uKleIOshQWT"
      },
      "source": [
        "\n",
        "## Replace Semicontinuous with Continuous + Binary\n"
      ]
    },
    {
      "cell_type": "code",
      "metadata": {
        "id": "0LREXnxDhLRB"
      },
      "source": [
        "\n",
        "# Create an empty model\n",
        "m = gp.Model('portfolio')\n",
        "\n",
        "# Add matrix variable for the stocks\n",
        "# x = m.addMVar(len(stocks), vtype='C', lb=0, ub=0.04)\n",
        "x = m.addMVar(len(stocks), vtype='S', lb=0.01, ub=0.04)\n",
        "x = m.addMVar(len(stocks), vtype='B', lb=0.01, ub=0.04)\n",
        "\n",
        "# Objective is to minimize risk (squared).  This is modeled using the\n",
        "# covariance matrix, which measures the historical correlation between stocks\n",
        "portfolio_risk = (x @ sigma @ x) + (0.1 * (x @ x))\n",
        "m.setObjective(portfolio_risk, GRB.MINIMIZE)\n",
        "\n",
        "# Fix budget with a constraint\n",
        "m.addConstr(x.sum() == 1, 'budget')\n",
        "\n",
        "# Verify model formulation\n",
        "m.write('portfolio_selection_optimization.lp')\n",
        "\n",
        "# Optimize model to find the minimum risk portfolio\n",
        "m.optimize()"
      ],
      "execution_count": null,
      "outputs": []
    },
    {
      "cell_type": "markdown",
      "metadata": {
        "id": "Wz4eDPoFfz4g"
      },
      "source": [
        "## Compute the efficient frontier\n",
        "Solve the QP parametrically to find the lowest risk portfolio for different expected returns."
      ]
    },
    {
      "cell_type": "code",
      "metadata": {
        "id": "etpNKjV_fz4g"
      },
      "source": [
        "# Create an expression representing the expected return for the portfolio\n",
        "portfolio_return = delta @ x\n",
        "target = m.addConstr(portfolio_return == minrisk_return, 'target')\n",
        "\n",
        "# Solve for efficient frontier by varying target return\n",
        "frontier = np.empty((2,0))\n",
        "for r in np.linspace(delta.min(), delta.max(), 25):\n",
        "    target[0].rhs = r\n",
        "    m.optimize()\n",
        "    frontier = np.append(frontier, [[sqrt(m.ObjVal)],[r]], axis=1)"
      ],
      "execution_count": null,
      "outputs": []
    },
    {
      "cell_type": "markdown",
      "metadata": {
        "id": "FQGYzDazfz4i"
      },
      "source": [
        "## Plot results\n",
        "Use the matplot library to plot the optimized solutions, along with the individual stocks:"
      ]
    },
    {
      "cell_type": "code",
      "metadata": {
        "id": "QtSVXsr0fz4i"
      },
      "source": [
        "import matplotlib.pyplot as plt\n",
        "#plt.figure(figsize=(10,10))\n",
        "\n",
        "fig, ax = plt.subplots(figsize=(10,8))\n",
        "\n",
        "# Plot volatility versus expected return for individual stocks\n",
        "ax.scatter(x=std, y=delta,\n",
        "           color='Blue', label='Individual Stocks')\n",
        "for i, stock in enumerate(stocks):\n",
        "    ax.annotate(stock, (std[i], delta[i]))\n",
        "\n",
        "# Plot volatility versus expected return for minimum risk portfolio\n",
        "ax.scatter(x=minrisk_volatility, y=minrisk_return, color='DarkGreen')\n",
        "ax.annotate('Minimum\\nRisk\\nPortfolio', (minrisk_volatility, minrisk_return),\n",
        "            horizontalalignment='right')\n",
        "\n",
        "# Plot efficient frontier\n",
        "ax.plot(frontier[0], frontier[1], label='Efficient Frontier', color='DarkGreen')\n",
        "\n",
        "# Format and display the final plot\n",
        "ax.axis([frontier[0].min()*0.7, frontier[0].max()*1.3, delta.min()*1.2, delta.max()*1.2])\n",
        "ax.set_xlabel('Volatility (standard deviation)')\n",
        "ax.set_ylabel('Expected Return')\n",
        "ax.legend()\n",
        "ax.grid()\n",
        "plt.show()"
      ],
      "execution_count": null,
      "outputs": []
    }
  ]
}