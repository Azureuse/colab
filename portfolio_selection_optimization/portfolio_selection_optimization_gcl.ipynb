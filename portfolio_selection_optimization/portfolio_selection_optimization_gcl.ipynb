{
  "nbformat": 4,
  "nbformat_minor": 0,
  "metadata": {
    "kernelspec": {
      "display_name": "Python 3",
      "language": "python",
      "name": "python3"
    },
    "language_info": {
      "codemirror_mode": {
        "name": "ipython",
        "version": 3
      },
      "file_extension": ".py",
      "mimetype": "text/x-python",
      "name": "python",
      "nbconvert_exporter": "python",
      "pygments_lexer": "ipython3",
      "version": "3.8.2"
    },
    "colab": {
      "name": "portfolio_selection_optimization_gcl.ipynb",
      "provenance": [],
      "include_colab_link": true
    }
  },
  "cells": [
    {
      "cell_type": "markdown",
      "metadata": {
        "id": "view-in-github",
        "colab_type": "text"
      },
      "source": [
        "<a href=\"https://colab.research.google.com/github/Azureuse/colab/blob/main/portfolio_selection_optimization/portfolio_selection_optimization_gcl.ipynb\" target=\"_parent\"><img src=\"https://colab.research.google.com/assets/colab-badge.svg\" alt=\"Open In Colab\"/></a>"
      ]
    },
    {
      "cell_type": "markdown",
      "metadata": {
        "scrolled": true,
        "id": "U2aAy_Qmfz4Q"
      },
      "source": [
        "# Portfolio Selection Optimization\n",
        "This model is an example of the classic [Markowitz portfolio selection optimization model](https://en.wikipedia.org/wiki/Markowitz_model). We want to find the fraction of the portfolio to invest among a set of stocks that balances risk and return. It is a Quadratic Programming (QP) model with vector and matrix data for returns and risk, respectively. This is best suited to a matrix formulation, so we use the Gurobi Python *matrix* interface. The basic model is fairly simple, so we also solve it parametrically to find the efficient frontier.\n",
        "\n",
        "**Download the Repository** <br /> \n",
        "You can download the repository containing this and other examples by clicking [here](https://github.com/Gurobi/modeling-examples/archive/master.zip). \n",
        "\n",
        "\n",
        "## Model Formulation\n",
        "### Parameters\n",
        "\n",
        "We use the [Greek values](https://en.wikipedia.org/wiki/Greeks_\\(finance\\)) that are traditional in finance:\n",
        "\n",
        "- $\\delta$: n-element vector measuring the change in price for each stock\n",
        "- $\\sigma$: n x n matrix measuring the covariance among stocks\n",
        "\n",
        "There is one additional parameter when solving the model parametrically:\n",
        "\n",
        "- r: target return\n",
        "\n",
        "\n",
        "### Decision Variables\n",
        "- $x \\ge 0$: n-element vector where each element represents the fraction of the porfolio to invest in each stock\n",
        "\n",
        "### Objective Function\n",
        "Minimize the total risk, a convex quadratic function:\n",
        "\n",
        "\\begin{equation}\n",
        "\\min x^t \\cdot \\sigma \\cdot x\n",
        "\\end{equation}\n",
        "\n",
        "### Constraints\n",
        "\n",
        "Allocate the entire portfolio: the total investments should be 1.0 (100%), where $e$ is a unit vector (all 1's):\n",
        "\n",
        "\\begin{equation}\n",
        "e \\cdot x = 1\n",
        "\\end{equation}\n",
        "\n",
        "\n",
        "Return: When we solve the model parametrically for different return values $r$, we add a constraint on the target return:\n",
        "\n",
        "\\begin{equation}\n",
        "\\delta \\cdot x = r\n",
        "\\end{equation}"
      ]
    },
    {
      "cell_type": "markdown",
      "metadata": {
        "scrolled": true,
        "id": "4a5YLhn1fz4W"
      },
      "source": [
        "## Python Implementation\n",
        "### Stock data\n",
        "Use [yfinance](https://pypi.org/project/yfinance/) library to get the latest 2 years of _actual stock data_ from the 20 most profitable US companies, [according to Wikipedia in April 2021](https://en.wikipedia.org/wiki/List_of_largest_companies_in_the_United_States_by_revenue#List_of_companies_by_profit)."
      ]
    },
    {
      "cell_type": "code",
      "metadata": {
        "colab": {
          "base_uri": "https://localhost:8080/"
        },
        "id": "XpcLypZcfz4X",
        "outputId": "4f11df07-7be3-4da1-b52d-e1ec7132e771"
      },
      "source": [
        "%pip install gurobipy yfinance pytickersymbols"
      ],
      "execution_count": 65,
      "outputs": [
        {
          "output_type": "stream",
          "name": "stdout",
          "text": [
            "Requirement already satisfied: gurobipy in /usr/local/lib/python3.7/dist-packages (9.1.2)\n",
            "Requirement already satisfied: yfinance in /usr/local/lib/python3.7/dist-packages (0.1.63)\n",
            "Requirement already satisfied: pytickersymbols in /usr/local/lib/python3.7/dist-packages (1.8.6)\n",
            "Requirement already satisfied: multitasking>=0.0.7 in /usr/local/lib/python3.7/dist-packages (from yfinance) (0.0.9)\n",
            "Requirement already satisfied: requests>=2.20 in /usr/local/lib/python3.7/dist-packages (from yfinance) (2.23.0)\n",
            "Requirement already satisfied: lxml>=4.5.1 in /usr/local/lib/python3.7/dist-packages (from yfinance) (4.6.3)\n",
            "Requirement already satisfied: numpy>=1.15 in /usr/local/lib/python3.7/dist-packages (from yfinance) (1.19.5)\n",
            "Requirement already satisfied: pandas>=0.24 in /usr/local/lib/python3.7/dist-packages (from yfinance) (1.1.5)\n",
            "Requirement already satisfied: pytz>=2017.2 in /usr/local/lib/python3.7/dist-packages (from pandas>=0.24->yfinance) (2018.9)\n",
            "Requirement already satisfied: python-dateutil>=2.7.3 in /usr/local/lib/python3.7/dist-packages (from pandas>=0.24->yfinance) (2.8.2)\n",
            "Requirement already satisfied: six>=1.5 in /usr/local/lib/python3.7/dist-packages (from python-dateutil>=2.7.3->pandas>=0.24->yfinance) (1.15.0)\n",
            "Requirement already satisfied: urllib3!=1.25.0,!=1.25.1,<1.26,>=1.21.1 in /usr/local/lib/python3.7/dist-packages (from requests>=2.20->yfinance) (1.24.3)\n",
            "Requirement already satisfied: chardet<4,>=3.0.2 in /usr/local/lib/python3.7/dist-packages (from requests>=2.20->yfinance) (3.0.4)\n",
            "Requirement already satisfied: idna<3,>=2.5 in /usr/local/lib/python3.7/dist-packages (from requests>=2.20->yfinance) (2.10)\n",
            "Requirement already satisfied: certifi>=2017.4.17 in /usr/local/lib/python3.7/dist-packages (from requests>=2.20->yfinance) (2021.5.30)\n",
            "Requirement already satisfied: wheel==0.37.0 in /usr/local/lib/python3.7/dist-packages (from pytickersymbols) (0.37.0)\n",
            "Requirement already satisfied: PyYAML==5.4.1 in /usr/local/lib/python3.7/dist-packages (from pytickersymbols) (5.4.1)\n"
          ]
        }
      ]
    },
    {
      "cell_type": "code",
      "metadata": {
        "colab": {
          "base_uri": "https://localhost:8080/"
        },
        "id": "kh7OLITzgTv5",
        "outputId": "f710f24b-b370-456c-a905-c5cdbd2fc70c"
      },
      "source": [
        "from pytickersymbols import PyTickerSymbols\n",
        "\n",
        "stock_data = PyTickerSymbols()\n",
        "stocks = list(stock_data.get_sp_100_nyc_yahoo_tickers())\n",
        "len(stocks)"
      ],
      "execution_count": 1,
      "outputs": [
        {
          "output_type": "execute_result",
          "data": {
            "text/plain": [
              "104"
            ]
          },
          "metadata": {},
          "execution_count": 1
        }
      ]
    },
    {
      "cell_type": "code",
      "metadata": {
        "scrolled": true,
        "colab": {
          "base_uri": "https://localhost:8080/"
        },
        "id": "TEyZFXupfz4Z",
        "outputId": "4f231a39-8740-492a-9ec1-b9ed469b64cc"
      },
      "source": [
        "import yfinance as yf\n",
        "\n",
        "# stocks = ['BRK-A', 'AAPL', 'MSFT', 'JPM', 'GOOG', 'BAC', 'INTC', 'WFC',\n",
        "#           'C', 'VZ', 'FB', 'PFE', 'JNJ', 'WMT', 'XOM',\n",
        "#           'FNMA', 'T', 'UNH', 'CMCSA', 'V' ]\n",
        "\n",
        "data = yf.download(stocks, period='2y')\n",
        "data.shape"
      ],
      "execution_count": 32,
      "outputs": [
        {
          "output_type": "stream",
          "name": "stdout",
          "text": [
            "[*********************100%***********************]  104 of 104 completed\n"
          ]
        },
        {
          "output_type": "execute_result",
          "data": {
            "text/plain": [
              "(505, 624)"
            ]
          },
          "metadata": {},
          "execution_count": 32
        }
      ]
    },
    {
      "cell_type": "markdown",
      "metadata": {
        "id": "QDEClMOqfz4a"
      },
      "source": [
        "### Compute Greeks\n",
        "Using the downloaded stock data, find the delta (return), sigma (covariance) and standard deviation values for stock prices:"
      ]
    },
    {
      "cell_type": "code",
      "metadata": {
        "colab": {
          "base_uri": "https://localhost:8080/"
        },
        "id": "cwFu5jFafz4a",
        "outputId": "d28bdcdc-a7e8-4fbc-e4fa-13a211b0cac2"
      },
      "source": [
        "import numpy as np\n",
        "\n",
        "clean_close_data = data['Close'].dropna(axis=1, how='any')\n",
        "\n",
        "clean_close_data.shape"
      ],
      "execution_count": 59,
      "outputs": [
        {
          "output_type": "execute_result",
          "data": {
            "text/plain": [
              "(505, 102)"
            ]
          },
          "metadata": {},
          "execution_count": 59
        }
      ]
    },
    {
      "cell_type": "code",
      "metadata": {
        "id": "6drnYVnbkz86",
        "outputId": "049ec16f-6485-4940-b10c-a0e564517db9",
        "colab": {
          "base_uri": "https://localhost:8080/"
        }
      },
      "source": [
        "n = 80\n",
        "\n",
        "closes = np.transpose(np.array(clean_close_data.iloc[300:, :n])) # matrix of daily closing prices\n",
        "absdiff = np.diff(closes)                   # change in closing price each day\n",
        "reldiff = np.divide(absdiff, closes[:,:-1]) # relative change in daily closing price\n",
        "delta = np.mean(reldiff, axis=1)            # mean price change\n",
        "sigma = np.cov(reldiff)                     # covariance (standard deviations)\n",
        "std = np.std(reldiff, axis=1)               # standard deviation\n",
        "\n",
        "sigma.shape"
      ],
      "execution_count": 74,
      "outputs": [
        {
          "output_type": "execute_result",
          "data": {
            "text/plain": [
              "(80, 80)"
            ]
          },
          "metadata": {},
          "execution_count": 74
        }
      ]
    },
    {
      "cell_type": "markdown",
      "metadata": {
        "id": "aZWMwCiofz4b"
      },
      "source": [
        "## Minimize risk by solving QP model"
      ]
    },
    {
      "cell_type": "code",
      "metadata": {
        "colab": {
          "base_uri": "https://localhost:8080/"
        },
        "id": "gZc_yBsQfz4c",
        "outputId": "d088a1b0-3012-490c-80d4-791de3602016"
      },
      "source": [
        "import gurobipy as gp\n",
        "from gurobipy import GRB\n",
        "from math import sqrt\n",
        "\n",
        "# Create an empty model\n",
        "m = gp.Model('portfolio')\n",
        "\n",
        "n = len(delta)\n",
        "\n",
        "# Add matrix variable for the stocks\n",
        "# x = m.addMVar(n, vtype='C', lb=0, ub=0.06)\n",
        "x = m.addMVar(n, vtype='S', lb=0.012, ub=0.06)\n",
        "\n",
        "# Objective is to minimize risk (squared).  This is modeled using the\n",
        "# covariance matrix, which measures the historical correlation between stocks\n",
        "portfolio_risk = (x @ sigma @ x) + (0.10 * (x @ x)) - (1.0 * (x @ delta))\n",
        "m.setObjective(portfolio_risk, GRB.MINIMIZE)\n",
        "\n",
        "# Fix budget with a constraint\n",
        "m.addConstr(x.sum() == 1, 'budget')\n",
        "\n",
        "# Verify model formulation\n",
        "m.write('portfolio_selection_optimization.lp')\n",
        "\n",
        "# Optimize model to find the minimum risk portfolio\n",
        "m.optimize()"
      ],
      "execution_count": 84,
      "outputs": [
        {
          "output_type": "stream",
          "name": "stdout",
          "text": [
            "Gurobi Optimizer version 9.1.2 build v9.1.2rc0 (linux64)\n",
            "Thread count: 1 physical cores, 2 logical processors, using up to 2 threads\n",
            "Optimize a model with 1 rows, 80 columns and 80 nonzeros\n",
            "Model fingerprint: 0x5002b937\n",
            "Model has 3240 quadratic objective terms\n",
            "Variable types: 0 continuous, 0 integer (0 binary)\n",
            "Semi-Variable types: 80 continuous, 0 integer\n",
            "Coefficient statistics:\n",
            "  Matrix range     [1e+00, 1e+00]\n",
            "  Objective range  [0e+00, 0e+00]\n",
            "  QObjective range [2e-07, 2e-01]\n",
            "  Bounds range     [1e-02, 6e-02]\n",
            "  RHS range        [1e+00, 1e+00]\n",
            "Presolve time: 0.00s\n",
            "Presolved: 161 rows, 160 columns, 400 nonzeros\n",
            "Presolved model has 3240 quadratic objective terms\n",
            "Variable types: 80 continuous, 80 integer (80 binary)\n",
            "Found heuristic solution: objective 0.0059339\n",
            "\n",
            "Root relaxation: objective 1.304718e-03, 242 iterations, 0.01 seconds\n",
            "\n",
            "    Nodes    |    Current Node    |     Objective Bounds      |     Work\n",
            " Expl Unexpl |  Obj  Depth IntInf | Incumbent    BestBd   Gap | It/Node Time\n",
            "\n",
            "     0     0    0.00130    0   80    0.00593    0.00130  78.0%     -    0s\n",
            "H    0     0                       0.0013047    0.00130  0.00%     -    0s\n",
            "\n",
            "Explored 1 nodes (242 simplex iterations) in 0.05 seconds\n",
            "Thread count was 2 (of 2 available processors)\n",
            "\n",
            "Solution count 2: 0.00130472 0.00593386 \n",
            "\n",
            "Optimal solution found (tolerance 1.00e-04)\n",
            "Best objective 1.304717805148e-03, best bound 1.304717805148e-03, gap 0.0000%\n"
          ]
        }
      ]
    },
    {
      "cell_type": "code",
      "metadata": {
        "id": "85az-MIDo49N"
      },
      "source": [
        ""
      ],
      "execution_count": null,
      "outputs": []
    },
    {
      "cell_type": "markdown",
      "metadata": {
        "id": "uT4MZYTIfz4e"
      },
      "source": [
        "## Display minimum risk portfolio using Pandas"
      ]
    },
    {
      "cell_type": "code",
      "metadata": {
        "colab": {
          "base_uri": "https://localhost:8080/",
          "height": 1000
        },
        "id": "6F4WbwKxfz4f",
        "outputId": "2e5a9efe-4542-4f41-9386-a806545242a8"
      },
      "source": [
        "import pandas as pd\n",
        "# minrisk_volatility = sqrt(m.ObjVal)\n",
        "# minrisk_return = delta @ x.X\n",
        "# pd.DataFrame(data=np.append(x.X, [minrisk_volatility, minrisk_return]),\n",
        "#              index=stocks + ['Volatility', 'Expected Return'],\n",
        "#              columns=['Minimum Risk Portfolio'])\n",
        "df_weights = pd.DataFrame(data=x.X, index=stocks[:n], columns=['weight'])\n",
        "df_weights.sort_values(by=['weight'], ascending=False).head(50)"
      ],
      "execution_count": 83,
      "outputs": [
        {
          "output_type": "execute_result",
          "data": {
            "text/html": [
              "<div>\n",
              "<style scoped>\n",
              "    .dataframe tbody tr th:only-of-type {\n",
              "        vertical-align: middle;\n",
              "    }\n",
              "\n",
              "    .dataframe tbody tr th {\n",
              "        vertical-align: top;\n",
              "    }\n",
              "\n",
              "    .dataframe thead th {\n",
              "        text-align: right;\n",
              "    }\n",
              "</style>\n",
              "<table border=\"1\" class=\"dataframe\">\n",
              "  <thead>\n",
              "    <tr style=\"text-align: right;\">\n",
              "      <th></th>\n",
              "      <th>weight</th>\n",
              "    </tr>\n",
              "  </thead>\n",
              "  <tbody>\n",
              "    <tr>\n",
              "      <th>VZ</th>\n",
              "      <td>0.021724</td>\n",
              "    </tr>\n",
              "    <tr>\n",
              "      <th>COST</th>\n",
              "      <td>0.020985</td>\n",
              "    </tr>\n",
              "    <tr>\n",
              "      <th>UNH</th>\n",
              "      <td>0.019554</td>\n",
              "    </tr>\n",
              "    <tr>\n",
              "      <th>FDX</th>\n",
              "      <td>0.018460</td>\n",
              "    </tr>\n",
              "    <tr>\n",
              "      <th>PYPL</th>\n",
              "      <td>0.017913</td>\n",
              "    </tr>\n",
              "    <tr>\n",
              "      <th>QCOM</th>\n",
              "      <td>0.017885</td>\n",
              "    </tr>\n",
              "    <tr>\n",
              "      <th>F</th>\n",
              "      <td>0.016757</td>\n",
              "    </tr>\n",
              "    <tr>\n",
              "      <th>CAT</th>\n",
              "      <td>0.016644</td>\n",
              "    </tr>\n",
              "    <tr>\n",
              "      <th>SBUX</th>\n",
              "      <td>0.016433</td>\n",
              "    </tr>\n",
              "    <tr>\n",
              "      <th>DHR</th>\n",
              "      <td>0.015591</td>\n",
              "    </tr>\n",
              "    <tr>\n",
              "      <th>BK</th>\n",
              "      <td>0.015580</td>\n",
              "    </tr>\n",
              "    <tr>\n",
              "      <th>GS</th>\n",
              "      <td>0.015551</td>\n",
              "    </tr>\n",
              "    <tr>\n",
              "      <th>NVDA</th>\n",
              "      <td>0.015449</td>\n",
              "    </tr>\n",
              "    <tr>\n",
              "      <th>XOM</th>\n",
              "      <td>0.015443</td>\n",
              "    </tr>\n",
              "    <tr>\n",
              "      <th>C</th>\n",
              "      <td>0.014831</td>\n",
              "    </tr>\n",
              "    <tr>\n",
              "      <th>KHC</th>\n",
              "      <td>0.013970</td>\n",
              "    </tr>\n",
              "    <tr>\n",
              "      <th>IBM</th>\n",
              "      <td>0.013605</td>\n",
              "    </tr>\n",
              "    <tr>\n",
              "      <th>GOOG</th>\n",
              "      <td>0.013571</td>\n",
              "    </tr>\n",
              "    <tr>\n",
              "      <th>DUK</th>\n",
              "      <td>0.013477</td>\n",
              "    </tr>\n",
              "    <tr>\n",
              "      <th>BLK</th>\n",
              "      <td>0.013120</td>\n",
              "    </tr>\n",
              "    <tr>\n",
              "      <th>MO</th>\n",
              "      <td>0.012946</td>\n",
              "    </tr>\n",
              "    <tr>\n",
              "      <th>WMT</th>\n",
              "      <td>0.012302</td>\n",
              "    </tr>\n",
              "    <tr>\n",
              "      <th>TSLA</th>\n",
              "      <td>0.012082</td>\n",
              "    </tr>\n",
              "    <tr>\n",
              "      <th>ADBE</th>\n",
              "      <td>0.012073</td>\n",
              "    </tr>\n",
              "    <tr>\n",
              "      <th>AAPL</th>\n",
              "      <td>0.012054</td>\n",
              "    </tr>\n",
              "    <tr>\n",
              "      <th>TXN</th>\n",
              "      <td>0.012000</td>\n",
              "    </tr>\n",
              "    <tr>\n",
              "      <th>T</th>\n",
              "      <td>0.012000</td>\n",
              "    </tr>\n",
              "    <tr>\n",
              "      <th>ABT</th>\n",
              "      <td>0.012000</td>\n",
              "    </tr>\n",
              "    <tr>\n",
              "      <th>ABBV</th>\n",
              "      <td>0.012000</td>\n",
              "    </tr>\n",
              "    <tr>\n",
              "      <th>GM</th>\n",
              "      <td>0.012000</td>\n",
              "    </tr>\n",
              "    <tr>\n",
              "      <th>ACN</th>\n",
              "      <td>0.012000</td>\n",
              "    </tr>\n",
              "    <tr>\n",
              "      <th>AIG</th>\n",
              "      <td>0.012000</td>\n",
              "    </tr>\n",
              "    <tr>\n",
              "      <th>HON</th>\n",
              "      <td>0.012000</td>\n",
              "    </tr>\n",
              "    <tr>\n",
              "      <th>EXC</th>\n",
              "      <td>0.012000</td>\n",
              "    </tr>\n",
              "    <tr>\n",
              "      <th>BAC</th>\n",
              "      <td>0.012000</td>\n",
              "    </tr>\n",
              "    <tr>\n",
              "      <th>BRK-B</th>\n",
              "      <td>0.012000</td>\n",
              "    </tr>\n",
              "    <tr>\n",
              "      <th>BKNG</th>\n",
              "      <td>0.012000</td>\n",
              "    </tr>\n",
              "    <tr>\n",
              "      <th>GE</th>\n",
              "      <td>0.012000</td>\n",
              "    </tr>\n",
              "    <tr>\n",
              "      <th>TMUS</th>\n",
              "      <td>0.012000</td>\n",
              "    </tr>\n",
              "    <tr>\n",
              "      <th>BMY</th>\n",
              "      <td>0.012000</td>\n",
              "    </tr>\n",
              "    <tr>\n",
              "      <th>BMYMP</th>\n",
              "      <td>0.012000</td>\n",
              "    </tr>\n",
              "    <tr>\n",
              "      <th>COF</th>\n",
              "      <td>0.012000</td>\n",
              "    </tr>\n",
              "    <tr>\n",
              "      <th>CL</th>\n",
              "      <td>0.012000</td>\n",
              "    </tr>\n",
              "    <tr>\n",
              "      <th>COP</th>\n",
              "      <td>0.012000</td>\n",
              "    </tr>\n",
              "    <tr>\n",
              "      <th>CVS</th>\n",
              "      <td>0.012000</td>\n",
              "    </tr>\n",
              "    <tr>\n",
              "      <th>LLY</th>\n",
              "      <td>0.012000</td>\n",
              "    </tr>\n",
              "    <tr>\n",
              "      <th>EMR</th>\n",
              "      <td>0.012000</td>\n",
              "    </tr>\n",
              "    <tr>\n",
              "      <th>LIN</th>\n",
              "      <td>0.012000</td>\n",
              "    </tr>\n",
              "    <tr>\n",
              "      <th>LOW</th>\n",
              "      <td>0.012000</td>\n",
              "    </tr>\n",
              "    <tr>\n",
              "      <th>NFLX</th>\n",
              "      <td>0.012000</td>\n",
              "    </tr>\n",
              "  </tbody>\n",
              "</table>\n",
              "</div>"
            ],
            "text/plain": [
              "         weight\n",
              "VZ     0.021724\n",
              "COST   0.020985\n",
              "UNH    0.019554\n",
              "FDX    0.018460\n",
              "PYPL   0.017913\n",
              "QCOM   0.017885\n",
              "F      0.016757\n",
              "CAT    0.016644\n",
              "SBUX   0.016433\n",
              "DHR    0.015591\n",
              "BK     0.015580\n",
              "GS     0.015551\n",
              "NVDA   0.015449\n",
              "XOM    0.015443\n",
              "C      0.014831\n",
              "KHC    0.013970\n",
              "IBM    0.013605\n",
              "GOOG   0.013571\n",
              "DUK    0.013477\n",
              "BLK    0.013120\n",
              "MO     0.012946\n",
              "WMT    0.012302\n",
              "TSLA   0.012082\n",
              "ADBE   0.012073\n",
              "AAPL   0.012054\n",
              "TXN    0.012000\n",
              "T      0.012000\n",
              "ABT    0.012000\n",
              "ABBV   0.012000\n",
              "GM     0.012000\n",
              "ACN    0.012000\n",
              "AIG    0.012000\n",
              "HON    0.012000\n",
              "EXC    0.012000\n",
              "BAC    0.012000\n",
              "BRK-B  0.012000\n",
              "BKNG   0.012000\n",
              "GE     0.012000\n",
              "TMUS   0.012000\n",
              "BMY    0.012000\n",
              "BMYMP  0.012000\n",
              "COF    0.012000\n",
              "CL     0.012000\n",
              "COP    0.012000\n",
              "CVS    0.012000\n",
              "LLY    0.012000\n",
              "EMR    0.012000\n",
              "LIN    0.012000\n",
              "LOW    0.012000\n",
              "NFLX   0.012000"
            ]
          },
          "metadata": {},
          "execution_count": 83
        }
      ]
    },
    {
      "cell_type": "markdown",
      "metadata": {
        "id": "7uKleIOshQWT"
      },
      "source": [
        "\n",
        "## Replace Semicontinuous with Continuous + Binary\n"
      ]
    },
    {
      "cell_type": "code",
      "metadata": {
        "colab": {
          "base_uri": "https://localhost:8080/"
        },
        "id": "0LREXnxDhLRB",
        "outputId": "aa44a68b-8a66-4214-ffb1-1de35c07ed9e"
      },
      "source": [
        "# Create an empty model\n",
        "m2 = gp.Model('portfolio')\n",
        "\n",
        "n = len(delta)\n",
        "\n",
        "# Add matrix variable for the stocks\n",
        "x = m2.addMVar(n, vtype='C')\n",
        "x_b = m2.addMVar(n, vtype='B')\n",
        "\n",
        "m2.addConstr(x >= (0.012 * x_b), 'sc_lower')\n",
        "m2.addConstr(x <= (0.06 * x_b), 'sc_upper')\n",
        "\n",
        "# Objective is to minimize risk (squared).  This is modeled using the\n",
        "# covariance matrix, which measures the historical correlation between stocks\n",
        "portfolio_risk = (x @ sigma @ x) + (0.10 * (x @ x)) - (1.0 * (x @ delta))\n",
        "m2.setObjective(portfolio_risk, GRB.MINIMIZE)\n",
        "\n",
        "# Fix budget with a constraint\n",
        "m2.addConstr(x.sum() == 1, 'budget')\n",
        "\n",
        "# Verify model formulation\n",
        "m2.write('portfolio_selection_optimization2.lp')\n",
        "\n",
        "# Optimize model to find the minimum risk portfolio\n",
        "m2.optimize()"
      ],
      "execution_count": 82,
      "outputs": [
        {
          "output_type": "stream",
          "name": "stdout",
          "text": [
            "Gurobi Optimizer version 9.1.2 build v9.1.2rc0 (linux64)\n",
            "Thread count: 1 physical cores, 2 logical processors, using up to 2 threads\n",
            "Optimize a model with 161 rows, 160 columns and 400 nonzeros\n",
            "Model fingerprint: 0x324f7ab3\n",
            "Model has 3240 quadratic objective terms\n",
            "Variable types: 80 continuous, 80 integer (80 binary)\n",
            "Coefficient statistics:\n",
            "  Matrix range     [1e-02, 1e+00]\n",
            "  Objective range  [1e-04, 3e-03]\n",
            "  QObjective range [2e-07, 2e-01]\n",
            "  Bounds range     [1e+00, 1e+00]\n",
            "  RHS range        [1e+00, 1e+00]\n",
            "Found heuristic solution: objective 0.0053147\n",
            "Presolve time: 0.00s\n",
            "Presolved: 161 rows, 160 columns, 400 nonzeros\n",
            "Presolved model has 3240 quadratic objective terms\n",
            "Variable types: 80 continuous, 80 integer (80 binary)\n",
            "\n",
            "Root relaxation: objective 2.481891e-04, 243 iterations, 0.01 seconds\n",
            "\n",
            "    Nodes    |    Current Node    |     Objective Bounds      |     Work\n",
            " Expl Unexpl |  Obj  Depth IntInf | Incumbent    BestBd   Gap | It/Node Time\n",
            "\n",
            "     0     0    0.00025    0   80    0.00531    0.00025  95.3%     -    0s\n",
            "H    0     0                       0.0003844    0.00025  35.4%     -    0s\n",
            "H    0     0                       0.0003411    0.00025  27.2%     -    0s\n",
            "     0     0    0.00025    0   80    0.00034    0.00025  27.2%     -    0s\n",
            "     0     0    0.00025    0   80    0.00034    0.00025  27.2%     -    0s\n",
            "     0     0    0.00025    0   80    0.00034    0.00025  27.2%     -    0s\n",
            "H    0     0                       0.0002928    0.00025  15.2%     -    0s\n",
            "     0     2    0.00025    0   77    0.00029    0.00025  15.2%     -    0s\n",
            "*   78    77              77       0.0002891    0.00025  12.7%   3.9    0s\n",
            " 10185  4532    0.00028   62   24    0.00029    0.00028  4.88%   4.0    5s\n",
            " 21171  7455    0.00029   76   10    0.00029    0.00028  3.62%   4.0   10s\n",
            " 34440  7550    0.00029   58   22    0.00029    0.00028  2.25%   3.9   15s\n",
            " 47388  5680     cutoff   72         0.00029    0.00029  1.26%   3.8   20s\n",
            " 60988   558    0.00029   75   11    0.00029    0.00029  0.09%   3.7   25s\n",
            "\n",
            "Explored 61790 nodes (227179 simplex iterations) in 25.33 seconds\n",
            "Thread count was 2 (of 2 available processors)\n",
            "\n",
            "Solution count 5: 0.000289128 0.000292771 0.000341102 ... 0.00531468\n",
            "\n",
            "Optimal solution found (tolerance 1.00e-04)\n",
            "Best objective 2.891280361919e-04, best bound 2.890995975208e-04, gap 0.0098%\n"
          ]
        }
      ]
    },
    {
      "cell_type": "markdown",
      "metadata": {
        "id": "Wz4eDPoFfz4g"
      },
      "source": [
        "## Compute the efficient frontier\n",
        "Solve the QP parametrically to find the lowest risk portfolio for different expected returns."
      ]
    },
    {
      "cell_type": "code",
      "metadata": {
        "id": "etpNKjV_fz4g"
      },
      "source": [
        "# Create an expression representing the expected return for the portfolio\n",
        "portfolio_return = delta @ x\n",
        "target = m.addConstr(portfolio_return == minrisk_return, 'target')\n",
        "\n",
        "# Solve for efficient frontier by varying target return\n",
        "frontier = np.empty((2,0))\n",
        "for r in np.linspace(delta.min(), delta.max(), 25):\n",
        "    target[0].rhs = r\n",
        "    m.optimize()\n",
        "    frontier = np.append(frontier, [[sqrt(m.ObjVal)],[r]], axis=1)"
      ],
      "execution_count": null,
      "outputs": []
    },
    {
      "cell_type": "markdown",
      "metadata": {
        "id": "FQGYzDazfz4i"
      },
      "source": [
        "## Plot results\n",
        "Use the matplot library to plot the optimized solutions, along with the individual stocks:"
      ]
    },
    {
      "cell_type": "code",
      "metadata": {
        "id": "QtSVXsr0fz4i"
      },
      "source": [
        "import matplotlib.pyplot as plt\n",
        "#plt.figure(figsize=(10,10))\n",
        "\n",
        "fig, ax = plt.subplots(figsize=(10,8))\n",
        "\n",
        "# Plot volatility versus expected return for individual stocks\n",
        "ax.scatter(x=std, y=delta,\n",
        "           color='Blue', label='Individual Stocks')\n",
        "for i, stock in enumerate(stocks):\n",
        "    ax.annotate(stock, (std[i], delta[i]))\n",
        "\n",
        "# Plot volatility versus expected return for minimum risk portfolio\n",
        "ax.scatter(x=minrisk_volatility, y=minrisk_return, color='DarkGreen')\n",
        "ax.annotate('Minimum\\nRisk\\nPortfolio', (minrisk_volatility, minrisk_return),\n",
        "            horizontalalignment='right')\n",
        "\n",
        "# Plot efficient frontier\n",
        "ax.plot(frontier[0], frontier[1], label='Efficient Frontier', color='DarkGreen')\n",
        "\n",
        "# Format and display the final plot\n",
        "ax.axis([frontier[0].min()*0.7, frontier[0].max()*1.3, delta.min()*1.2, delta.max()*1.2])\n",
        "ax.set_xlabel('Volatility (standard deviation)')\n",
        "ax.set_ylabel('Expected Return')\n",
        "ax.legend()\n",
        "ax.grid()\n",
        "plt.show()"
      ],
      "execution_count": null,
      "outputs": []
    }
  ]
}